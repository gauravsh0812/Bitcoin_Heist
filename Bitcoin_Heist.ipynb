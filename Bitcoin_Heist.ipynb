{
 "cells": [
  {
   "cell_type": "code",
   "execution_count": 1,
   "metadata": {},
   "outputs": [],
   "source": [
    "import numpy as np\n",
    "import pandas as pd\n",
    "import matplotlib.pyplot as plt\n",
    "import seaborn as sns\n",
    "import scipy"
   ]
  },
  {
   "cell_type": "markdown",
   "metadata": {},
   "source": [
    "## Import the dataset "
   ]
  },
  {
   "cell_type": "code",
   "execution_count": 2,
   "metadata": {},
   "outputs": [
    {
     "data": {
      "text/html": [
       "<div>\n",
       "<style scoped>\n",
       "    .dataframe tbody tr th:only-of-type {\n",
       "        vertical-align: middle;\n",
       "    }\n",
       "\n",
       "    .dataframe tbody tr th {\n",
       "        vertical-align: top;\n",
       "    }\n",
       "\n",
       "    .dataframe thead th {\n",
       "        text-align: right;\n",
       "    }\n",
       "</style>\n",
       "<table border=\"1\" class=\"dataframe\">\n",
       "  <thead>\n",
       "    <tr style=\"text-align: right;\">\n",
       "      <th></th>\n",
       "      <th>address</th>\n",
       "      <th>year</th>\n",
       "      <th>day</th>\n",
       "      <th>length</th>\n",
       "      <th>weight</th>\n",
       "      <th>count</th>\n",
       "      <th>looped</th>\n",
       "      <th>neighbors</th>\n",
       "      <th>income</th>\n",
       "      <th>label</th>\n",
       "    </tr>\n",
       "  </thead>\n",
       "  <tbody>\n",
       "    <tr>\n",
       "      <th>0</th>\n",
       "      <td>111K8kZAEnJg245r2cM6y9zgJGHZtJPy6</td>\n",
       "      <td>2017</td>\n",
       "      <td>11</td>\n",
       "      <td>18</td>\n",
       "      <td>0.008333</td>\n",
       "      <td>1</td>\n",
       "      <td>0</td>\n",
       "      <td>2</td>\n",
       "      <td>100050000.0</td>\n",
       "      <td>princetonCerber</td>\n",
       "    </tr>\n",
       "    <tr>\n",
       "      <th>1</th>\n",
       "      <td>1123pJv8jzeFQaCV4w644pzQJzVWay2zcA</td>\n",
       "      <td>2016</td>\n",
       "      <td>132</td>\n",
       "      <td>44</td>\n",
       "      <td>0.000244</td>\n",
       "      <td>1</td>\n",
       "      <td>0</td>\n",
       "      <td>1</td>\n",
       "      <td>100000000.0</td>\n",
       "      <td>princetonLocky</td>\n",
       "    </tr>\n",
       "    <tr>\n",
       "      <th>2</th>\n",
       "      <td>112536im7hy6wtKbpH1qYDWtTyMRAcA2p7</td>\n",
       "      <td>2016</td>\n",
       "      <td>246</td>\n",
       "      <td>0</td>\n",
       "      <td>1.000000</td>\n",
       "      <td>1</td>\n",
       "      <td>0</td>\n",
       "      <td>2</td>\n",
       "      <td>200000000.0</td>\n",
       "      <td>princetonCerber</td>\n",
       "    </tr>\n",
       "    <tr>\n",
       "      <th>3</th>\n",
       "      <td>1126eDRw2wqSkWosjTCre8cjjQW8sSeWH7</td>\n",
       "      <td>2016</td>\n",
       "      <td>322</td>\n",
       "      <td>72</td>\n",
       "      <td>0.003906</td>\n",
       "      <td>1</td>\n",
       "      <td>0</td>\n",
       "      <td>2</td>\n",
       "      <td>71200000.0</td>\n",
       "      <td>princetonCerber</td>\n",
       "    </tr>\n",
       "    <tr>\n",
       "      <th>4</th>\n",
       "      <td>1129TSjKtx65E35GiUo4AYVeyo48twbrGX</td>\n",
       "      <td>2016</td>\n",
       "      <td>238</td>\n",
       "      <td>144</td>\n",
       "      <td>0.072848</td>\n",
       "      <td>456</td>\n",
       "      <td>0</td>\n",
       "      <td>1</td>\n",
       "      <td>200000000.0</td>\n",
       "      <td>princetonLocky</td>\n",
       "    </tr>\n",
       "  </tbody>\n",
       "</table>\n",
       "</div>"
      ],
      "text/plain": [
       "                              address  year  day  length    weight  count  \\\n",
       "0   111K8kZAEnJg245r2cM6y9zgJGHZtJPy6  2017   11      18  0.008333      1   \n",
       "1  1123pJv8jzeFQaCV4w644pzQJzVWay2zcA  2016  132      44  0.000244      1   \n",
       "2  112536im7hy6wtKbpH1qYDWtTyMRAcA2p7  2016  246       0  1.000000      1   \n",
       "3  1126eDRw2wqSkWosjTCre8cjjQW8sSeWH7  2016  322      72  0.003906      1   \n",
       "4  1129TSjKtx65E35GiUo4AYVeyo48twbrGX  2016  238     144  0.072848    456   \n",
       "\n",
       "   looped  neighbors       income            label  \n",
       "0       0          2  100050000.0  princetonCerber  \n",
       "1       0          1  100000000.0   princetonLocky  \n",
       "2       0          2  200000000.0  princetonCerber  \n",
       "3       0          2   71200000.0  princetonCerber  \n",
       "4       0          1  200000000.0   princetonLocky  "
      ]
     },
     "execution_count": 2,
     "metadata": {},
     "output_type": "execute_result"
    }
   ],
   "source": [
    "df = pd.read_csv('/Users/gaurav/Desktop/Education/INFO521/project/Bitcoin_Heist/data/BitcoinHeistData.csv')\n",
    "df.head()"
   ]
  },
  {
   "cell_type": "code",
   "execution_count": 30,
   "metadata": {},
   "outputs": [
    {
     "name": "stdout",
     "output_type": "stream",
     "text": [
      "Dataset description\n"
     ]
    },
    {
     "data": {
      "text/html": [
       "<div>\n",
       "<style scoped>\n",
       "    .dataframe tbody tr th:only-of-type {\n",
       "        vertical-align: middle;\n",
       "    }\n",
       "\n",
       "    .dataframe tbody tr th {\n",
       "        vertical-align: top;\n",
       "    }\n",
       "\n",
       "    .dataframe thead th {\n",
       "        text-align: right;\n",
       "    }\n",
       "</style>\n",
       "<table border=\"1\" class=\"dataframe\">\n",
       "  <thead>\n",
       "    <tr style=\"text-align: right;\">\n",
       "      <th></th>\n",
       "      <th>year</th>\n",
       "      <th>day</th>\n",
       "      <th>length</th>\n",
       "      <th>weight</th>\n",
       "      <th>count</th>\n",
       "      <th>looped</th>\n",
       "      <th>neighbors</th>\n",
       "      <th>income</th>\n",
       "    </tr>\n",
       "  </thead>\n",
       "  <tbody>\n",
       "    <tr>\n",
       "      <th>count</th>\n",
       "      <td>1.048575e+06</td>\n",
       "      <td>1.048575e+06</td>\n",
       "      <td>1.048575e+06</td>\n",
       "      <td>1.048575e+06</td>\n",
       "      <td>1.048575e+06</td>\n",
       "      <td>1.048575e+06</td>\n",
       "      <td>1.048575e+06</td>\n",
       "      <td>1.048575e+06</td>\n",
       "    </tr>\n",
       "    <tr>\n",
       "      <th>mean</th>\n",
       "      <td>2.012048e+03</td>\n",
       "      <td>1.735295e+02</td>\n",
       "      <td>2.631742e+01</td>\n",
       "      <td>5.406222e-01</td>\n",
       "      <td>1.582070e+02</td>\n",
       "      <td>3.608665e+01</td>\n",
       "      <td>2.324220e+00</td>\n",
       "      <td>9.026359e+09</td>\n",
       "    </tr>\n",
       "    <tr>\n",
       "      <th>std</th>\n",
       "      <td>1.005057e+00</td>\n",
       "      <td>1.001409e+02</td>\n",
       "      <td>4.272004e+01</td>\n",
       "      <td>2.990846e+00</td>\n",
       "      <td>6.024127e+02</td>\n",
       "      <td>2.884734e+02</td>\n",
       "      <td>1.862359e+01</td>\n",
       "      <td>2.555870e+11</td>\n",
       "    </tr>\n",
       "    <tr>\n",
       "      <th>min</th>\n",
       "      <td>2.011000e+03</td>\n",
       "      <td>1.000000e+00</td>\n",
       "      <td>0.000000e+00</td>\n",
       "      <td>3.610000e-94</td>\n",
       "      <td>1.000000e+00</td>\n",
       "      <td>0.000000e+00</td>\n",
       "      <td>1.000000e+00</td>\n",
       "      <td>3.000000e+07</td>\n",
       "    </tr>\n",
       "    <tr>\n",
       "      <th>25%</th>\n",
       "      <td>2.011000e+03</td>\n",
       "      <td>8.800000e+01</td>\n",
       "      <td>0.000000e+00</td>\n",
       "      <td>1.897321e-02</td>\n",
       "      <td>1.000000e+00</td>\n",
       "      <td>0.000000e+00</td>\n",
       "      <td>1.000000e+00</td>\n",
       "      <td>1.086922e+08</td>\n",
       "    </tr>\n",
       "    <tr>\n",
       "      <th>50%</th>\n",
       "      <td>2.012000e+03</td>\n",
       "      <td>1.710000e+02</td>\n",
       "      <td>6.000000e+00</td>\n",
       "      <td>2.500000e-01</td>\n",
       "      <td>1.000000e+00</td>\n",
       "      <td>0.000000e+00</td>\n",
       "      <td>2.000000e+00</td>\n",
       "      <td>5.000000e+08</td>\n",
       "    </tr>\n",
       "    <tr>\n",
       "      <th>75%</th>\n",
       "      <td>2.013000e+03</td>\n",
       "      <td>2.560000e+02</td>\n",
       "      <td>2.800000e+01</td>\n",
       "      <td>5.606003e-01</td>\n",
       "      <td>8.000000e+00</td>\n",
       "      <td>0.000000e+00</td>\n",
       "      <td>2.000000e+00</td>\n",
       "      <td>2.519020e+09</td>\n",
       "    </tr>\n",
       "    <tr>\n",
       "      <th>max</th>\n",
       "      <td>2.018000e+03</td>\n",
       "      <td>3.650000e+02</td>\n",
       "      <td>1.440000e+02</td>\n",
       "      <td>4.982885e+02</td>\n",
       "      <td>1.346200e+04</td>\n",
       "      <td>1.169300e+04</td>\n",
       "      <td>3.776000e+03</td>\n",
       "      <td>4.996440e+13</td>\n",
       "    </tr>\n",
       "  </tbody>\n",
       "</table>\n",
       "</div>"
      ],
      "text/plain": [
       "               year           day        length        weight         count  \\\n",
       "count  1.048575e+06  1.048575e+06  1.048575e+06  1.048575e+06  1.048575e+06   \n",
       "mean   2.012048e+03  1.735295e+02  2.631742e+01  5.406222e-01  1.582070e+02   \n",
       "std    1.005057e+00  1.001409e+02  4.272004e+01  2.990846e+00  6.024127e+02   \n",
       "min    2.011000e+03  1.000000e+00  0.000000e+00  3.610000e-94  1.000000e+00   \n",
       "25%    2.011000e+03  8.800000e+01  0.000000e+00  1.897321e-02  1.000000e+00   \n",
       "50%    2.012000e+03  1.710000e+02  6.000000e+00  2.500000e-01  1.000000e+00   \n",
       "75%    2.013000e+03  2.560000e+02  2.800000e+01  5.606003e-01  8.000000e+00   \n",
       "max    2.018000e+03  3.650000e+02  1.440000e+02  4.982885e+02  1.346200e+04   \n",
       "\n",
       "             looped     neighbors        income  \n",
       "count  1.048575e+06  1.048575e+06  1.048575e+06  \n",
       "mean   3.608665e+01  2.324220e+00  9.026359e+09  \n",
       "std    2.884734e+02  1.862359e+01  2.555870e+11  \n",
       "min    0.000000e+00  1.000000e+00  3.000000e+07  \n",
       "25%    0.000000e+00  1.000000e+00  1.086922e+08  \n",
       "50%    0.000000e+00  2.000000e+00  5.000000e+08  \n",
       "75%    0.000000e+00  2.000000e+00  2.519020e+09  \n",
       "max    1.169300e+04  3.776000e+03  4.996440e+13  "
      ]
     },
     "execution_count": 30,
     "metadata": {},
     "output_type": "execute_result"
    }
   ],
   "source": [
    "print(\"Dataset description\")\n",
    "df.describe()"
   ]
  },
  {
   "cell_type": "markdown",
   "metadata": {},
   "source": [
    "# EDA: Exploratory data analysis (Trying to Convert raw data to useful data)\n",
    "It consists of steps to answers some basic yet important question about the dataset like how many Numerical feature are there?, How many categorical feature may be there?, Missing Values, outliers, Does RAW data  need cleaning?\n",
    "\n",
    "### Features: \n",
    "address: Bitcoin address. The address used for the transaction of the Bitcoin. Data type = String\n",
    "\n",
    "year:  Year of transaction. Data type = Integer\n",
    "\n",
    "day:  Day of the year. 1 is the first day, 365 is the last day. Data type = Integer\n",
    "\n",
    "length:  Quantifies the mixing of the Bitcoin, where received transactions were distributed similarly to hide the origin of the Heist. Data type = Integer\n",
    "\n",
    "weight:  Quantifies the merging pattern of the transactions that have more inputs addresses than the output addresses. It represents the information of the amount merged from several addresses. Data type = Float\n",
    "\n",
    "count:  Similar to weight, it represents the number of transactions from different input addresses. Data type = Integer\n",
    "\n",
    "looped:  It represents the number of times the coin was split, moved to some other address, and merged back to a single address where those coins will be cashed out. Data type = Integer\n",
    "\n",
    "neighbors\n",
    "\n",
    "income: The total ransom amount in Satoshis (1 bitcoin = 100 million satoshis). Data type = Integer\n",
    "\n",
    "label: Name of the ransomware team. Data type = String\n",
    "\n",
    "\n",
    "It can be obsereved from the sample of the data, there are 5 categorical features(address, year, day, neighbors, label) and 5 numerical features(length, weight, count, looped, income).  Let's start with checking if there are any missing values."
   ]
  },
  {
   "cell_type": "markdown",
   "metadata": {},
   "source": [
    "### Missing values"
   ]
  },
  {
   "cell_type": "code",
   "execution_count": 4,
   "metadata": {},
   "outputs": [
    {
     "data": {
      "text/plain": [
       "<AxesSubplot:>"
      ]
     },
     "execution_count": 4,
     "metadata": {},
     "output_type": "execute_result"
    },
    {
     "data": {
      "image/png": "[encoded data removed]",
      "text/plain": [
       "<Figure size 432x288 with 1 Axes>"
      ]
     },
     "metadata": {
      "needs_background": "light"
     },
     "output_type": "display_data"
    }
   ],
   "source": [
    "sns.heatmap(df.isnull(),yticklabels=False,cbar=False,cmap='viridis')"
   ]
  },
  {
   "cell_type": "markdown",
   "metadata": {},
   "source": [
    "That's GREAT!! Fortunately, there are no missing values in our dataset. It's rare to get such a dataset. But even if in case, we eneded up having some missing values, those would have been represented as the horizontal yellow dash line. In that case, we could have used three main tools, namely Mean, Meadian, and Mode. It depends on the requirement and the data, which one should use and when. "
   ]
  },
  {
   "cell_type": "markdown",
   "metadata": {},
   "source": [
    "## Analysing  categorical features\n",
    "\n",
    "We have totall 5 categorical values i.e. address, year, day, neighbors,  label.  Out of them, we can see that address, day, and neighbors are not something that impact the final label that much. Any address can be used for Bitcoin Heist, and that can happen on any day of the year. Hence we can drop these columns.  "
   ]
  },
  {
   "cell_type": "code",
   "execution_count": 162,
   "metadata": {},
   "outputs": [
    {
     "data": {
      "text/html": [
       "<div>\n",
       "<style scoped>\n",
       "    .dataframe tbody tr th:only-of-type {\n",
       "        vertical-align: middle;\n",
       "    }\n",
       "\n",
       "    .dataframe tbody tr th {\n",
       "        vertical-align: top;\n",
       "    }\n",
       "\n",
       "    .dataframe thead th {\n",
       "        text-align: right;\n",
       "    }\n",
       "</style>\n",
       "<table border=\"1\" class=\"dataframe\">\n",
       "  <thead>\n",
       "    <tr style=\"text-align: right;\">\n",
       "      <th></th>\n",
       "      <th>year</th>\n",
       "      <th>length</th>\n",
       "      <th>weight</th>\n",
       "      <th>count</th>\n",
       "      <th>looped</th>\n",
       "      <th>income</th>\n",
       "      <th>label</th>\n",
       "    </tr>\n",
       "  </thead>\n",
       "  <tbody>\n",
       "    <tr>\n",
       "      <th>0</th>\n",
       "      <td>2017</td>\n",
       "      <td>18</td>\n",
       "      <td>0.008333</td>\n",
       "      <td>1</td>\n",
       "      <td>0</td>\n",
       "      <td>100050000.0</td>\n",
       "      <td>princetonCerber</td>\n",
       "    </tr>\n",
       "    <tr>\n",
       "      <th>1</th>\n",
       "      <td>2016</td>\n",
       "      <td>44</td>\n",
       "      <td>0.000244</td>\n",
       "      <td>1</td>\n",
       "      <td>0</td>\n",
       "      <td>100000000.0</td>\n",
       "      <td>princetonLocky</td>\n",
       "    </tr>\n",
       "    <tr>\n",
       "      <th>2</th>\n",
       "      <td>2016</td>\n",
       "      <td>0</td>\n",
       "      <td>1.000000</td>\n",
       "      <td>1</td>\n",
       "      <td>0</td>\n",
       "      <td>200000000.0</td>\n",
       "      <td>princetonCerber</td>\n",
       "    </tr>\n",
       "    <tr>\n",
       "      <th>3</th>\n",
       "      <td>2016</td>\n",
       "      <td>72</td>\n",
       "      <td>0.003906</td>\n",
       "      <td>1</td>\n",
       "      <td>0</td>\n",
       "      <td>71200000.0</td>\n",
       "      <td>princetonCerber</td>\n",
       "    </tr>\n",
       "    <tr>\n",
       "      <th>4</th>\n",
       "      <td>2016</td>\n",
       "      <td>144</td>\n",
       "      <td>0.072848</td>\n",
       "      <td>456</td>\n",
       "      <td>0</td>\n",
       "      <td>200000000.0</td>\n",
       "      <td>princetonLocky</td>\n",
       "    </tr>\n",
       "  </tbody>\n",
       "</table>\n",
       "</div>"
      ],
      "text/plain": [
       "   year  length    weight  count  looped       income            label\n",
       "0  2017      18  0.008333      1       0  100050000.0  princetonCerber\n",
       "1  2016      44  0.000244      1       0  100000000.0   princetonLocky\n",
       "2  2016       0  1.000000      1       0  200000000.0  princetonCerber\n",
       "3  2016      72  0.003906      1       0   71200000.0  princetonCerber\n",
       "4  2016     144  0.072848    456       0  200000000.0   princetonLocky"
      ]
     },
     "execution_count": 162,
     "metadata": {},
     "output_type": "execute_result"
    }
   ],
   "source": [
    "for col in ['address', 'day', 'neighbors']:\n",
    "    df.drop(col, axis=1, inplace=True)\n",
    "\n",
    "df.head()"
   ]
  },
  {
   "cell_type": "markdown",
   "metadata": {},
   "source": [
    "#### Analysing category \"year\""
   ]
  },
  {
   "cell_type": "code",
   "execution_count": 178,
   "metadata": {},
   "outputs": [
    {
     "data": {
      "text/plain": [
       "{2012: 365714,\n",
       " 2011: 355349,\n",
       " 2013: 294372,\n",
       " 2016: 15631,\n",
       " 2014: 10319,\n",
       " 2015: 3701,\n",
       " 2017: 3486}"
      ]
     },
     "execution_count": 178,
     "metadata": {},
     "output_type": "execute_result"
    }
   ],
   "source": [
    "# Total number of categories in year\n",
    "year_dict = df['year'].value_counts().to_dict()\n",
    "year_dict"
   ]
  },
  {
   "cell_type": "code",
   "execution_count": 180,
   "metadata": {},
   "outputs": [
    {
     "data": {
      "image/png": "[encoded data removed]",
      "text/plain": [
       "<Figure size 432x288 with 1 Axes>"
      ]
     },
     "metadata": {},
     "output_type": "display_data"
    }
   ],
   "source": [
    "plt.bar(range(len(year_dict)), list(year_dict.values()), align='center')\n",
    "plt.xticks(range(len(year_dict)), list(year_dict.keys()))\n",
    "plt.show()"
   ]
  },
  {
   "cell_type": "markdown",
   "metadata": {},
   "source": [
    "As can be seen, year 2018 only has 3 datapoints which are very less compared to other years. Hence this year can be dropped from our dataset. Also, it can be seen that the dataset, based on \"year\" category, is quite imbalanced. We will deal with this later.\n",
    "\n",
    "One thing that can be noticed form the above dictionary is that the number if attacks get reduced with years. There could be couple of reasons for this -- either due to betterment of technology, it becomes more challanging to heist. Botcoin with the ease it was done done before or the dataset hasn't been updated properly due to ehich we are seeing this imbalance in the datapoints for \"year\" categories."
   ]
  },
  {
   "cell_type": "code",
   "execution_count": 173,
   "metadata": {},
   "outputs": [
    {
     "data": {
      "text/html": [
       "<div>\n",
       "<style scoped>\n",
       "    .dataframe tbody tr th:only-of-type {\n",
       "        vertical-align: middle;\n",
       "    }\n",
       "\n",
       "    .dataframe tbody tr th {\n",
       "        vertical-align: top;\n",
       "    }\n",
       "\n",
       "    .dataframe thead th {\n",
       "        text-align: right;\n",
       "    }\n",
       "</style>\n",
       "<table border=\"1\" class=\"dataframe\">\n",
       "  <thead>\n",
       "    <tr style=\"text-align: right;\">\n",
       "      <th></th>\n",
       "      <th>year</th>\n",
       "      <th>length</th>\n",
       "      <th>weight</th>\n",
       "      <th>count</th>\n",
       "      <th>looped</th>\n",
       "      <th>income</th>\n",
       "      <th>label</th>\n",
       "    </tr>\n",
       "  </thead>\n",
       "  <tbody>\n",
       "    <tr>\n",
       "      <th>0</th>\n",
       "      <td>2017</td>\n",
       "      <td>18</td>\n",
       "      <td>0.008333</td>\n",
       "      <td>1</td>\n",
       "      <td>0</td>\n",
       "      <td>100050000.0</td>\n",
       "      <td>princetonCerber</td>\n",
       "    </tr>\n",
       "    <tr>\n",
       "      <th>1</th>\n",
       "      <td>2016</td>\n",
       "      <td>44</td>\n",
       "      <td>0.000244</td>\n",
       "      <td>1</td>\n",
       "      <td>0</td>\n",
       "      <td>100000000.0</td>\n",
       "      <td>princetonLocky</td>\n",
       "    </tr>\n",
       "    <tr>\n",
       "      <th>2</th>\n",
       "      <td>2016</td>\n",
       "      <td>0</td>\n",
       "      <td>1.000000</td>\n",
       "      <td>1</td>\n",
       "      <td>0</td>\n",
       "      <td>200000000.0</td>\n",
       "      <td>princetonCerber</td>\n",
       "    </tr>\n",
       "    <tr>\n",
       "      <th>3</th>\n",
       "      <td>2016</td>\n",
       "      <td>72</td>\n",
       "      <td>0.003906</td>\n",
       "      <td>1</td>\n",
       "      <td>0</td>\n",
       "      <td>71200000.0</td>\n",
       "      <td>princetonCerber</td>\n",
       "    </tr>\n",
       "    <tr>\n",
       "      <th>4</th>\n",
       "      <td>2016</td>\n",
       "      <td>144</td>\n",
       "      <td>0.072848</td>\n",
       "      <td>456</td>\n",
       "      <td>0</td>\n",
       "      <td>200000000.0</td>\n",
       "      <td>princetonLocky</td>\n",
       "    </tr>\n",
       "  </tbody>\n",
       "</table>\n",
       "</div>"
      ],
      "text/plain": [
       "   year  length    weight  count  looped       income            label\n",
       "0  2017      18  0.008333      1       0  100050000.0  princetonCerber\n",
       "1  2016      44  0.000244      1       0  100000000.0   princetonLocky\n",
       "2  2016       0  1.000000      1       0  200000000.0  princetonCerber\n",
       "3  2016      72  0.003906      1       0   71200000.0  princetonCerber\n",
       "4  2016     144  0.072848    456       0  200000000.0   princetonLocky"
      ]
     },
     "execution_count": 173,
     "metadata": {},
     "output_type": "execute_result"
    }
   ],
   "source": [
    "index_2018 = df[df['year']==2018].index\n",
    "df.drop(index_2018, inplace = True)\n",
    "df.head()"
   ]
  },
  {
   "cell_type": "markdown",
   "metadata": {},
   "source": [
    "#### Analysing category \"label\""
   ]
  },
  {
   "cell_type": "code",
   "execution_count": 176,
   "metadata": {
    "scrolled": false
   },
   "outputs": [
    {
     "data": {
      "text/plain": [
       "{'white': 1007162,\n",
       " 'paduaCryptoWall': 12390,\n",
       " 'montrealCryptoLocker': 9315,\n",
       " 'princetonCerber': 9223,\n",
       " 'princetonLocky': 6625,\n",
       " 'montrealCryptXXX': 2419,\n",
       " 'montrealNoobCrypt': 483,\n",
       " 'montrealDMALockerv3': 354,\n",
       " 'montrealDMALocker': 251,\n",
       " 'montrealSamSam': 62,\n",
       " 'montrealCryptoTorLocker2015': 55,\n",
       " 'montrealGlobeImposter': 55,\n",
       " 'montrealGlobev3': 34,\n",
       " 'montrealGlobe': 32,\n",
       " 'montrealWannaCry': 28,\n",
       " 'montrealRazy': 12,\n",
       " 'montrealAPT': 11,\n",
       " 'paduaKeRanger': 10,\n",
       " 'montrealXTPLocker': 8,\n",
       " 'montrealXLockerv5.0': 7,\n",
       " 'montrealVenusLocker': 7,\n",
       " 'montrealCryptConsole': 7,\n",
       " 'montrealFlyper': 7,\n",
       " 'montrealEDA2': 6,\n",
       " 'montrealJigSaw': 4,\n",
       " 'paduaJigsaw': 2,\n",
       " 'montrealXLocker': 1,\n",
       " 'montrealSam': 1,\n",
       " 'montrealComradeCircle': 1}"
      ]
     },
     "execution_count": 176,
     "metadata": {},
     "output_type": "execute_result"
    }
   ],
   "source": [
    "# Total number of categories in label\n",
    "label_dict = df['label'].value_counts().to_dict()\n",
    "label_dict"
   ]
  },
  {
   "cell_type": "markdown",
   "metadata": {},
   "source": [
    "##### Distribution of the category \"label\" on Log scale"
   ]
  },
  {
   "cell_type": "code",
   "execution_count": 183,
   "metadata": {},
   "outputs": [
    {
     "data": {
      "image/png": "[encoded data removed]",
      "text/plain": [
       "<Figure size 432x288 with 1 Axes>"
      ]
     },
     "metadata": {},
     "output_type": "display_data"
    }
   ],
   "source": [
    "plt.bar(range(len(label_dict)), list(label_dict.values()), align='center', log=True)\n",
    "plt.xticks(range(len(label_dict)), list(label_dict.keys()), rotation = 'vertical')\n",
    "plt.show()"
   ]
  },
  {
   "cell_type": "markdown",
   "metadata": {},
   "source": [
    "## Visualizing individual numerical features \n",
    "\n",
    "Due to sheer number of datapoints and such a variation in the minimum, maximum, and standrad deviation, we will be using log scale to plot the distributions to visualize them clearly. \n",
    "\n",
    "#### Length"
   ]
  },
  {
   "cell_type": "code",
   "execution_count": 64,
   "metadata": {
    "scrolled": false
   },
   "outputs": [
    {
     "data": {
      "image/png": "[encoded data removed]",
      "text/plain": [
       "<Figure size 576x432 with 1 Axes>"
      ]
     },
     "metadata": {},
     "output_type": "display_data"
    }
   ],
   "source": [
    "plt.figure(figsize=(8,6))\n",
    "plt.hist(df['length'], bins=100, log=True)\n",
    "plt.xlabel('length', fontsize=15)\n",
    "plt.ylabel('number of datapoints', fontsize=15)\n",
    "plt.title('Distribution of \"Length\" feature', fontsize=15)\n",
    "plt.show()"
   ]
  },
  {
   "cell_type": "markdown",
   "metadata": {},
   "source": [
    "#### Year wise distribution of \"Length\" feature -- number of datapoints v/s length"
   ]
  },
  {
   "cell_type": "code",
   "execution_count": 146,
   "metadata": {},
   "outputs": [
    {
     "data": {
      "image/png": "[encoded data removed]",
      "text/plain": [
       "<Figure size 1440x1080 with 8 Axes>"
      ]
     },
     "metadata": {},
     "output_type": "display_data"
    }
   ],
   "source": [
    "plt.figure(figsize=(20,15))\n",
    "\n",
    "cord = [331, 332, 333, 334, 335,  336, 337, 338]\n",
    "year = [2011, 2012, 2013, 2014, 2015, 2016,  2017, 2018]\n",
    "\n",
    "for c,y in zip(cord, year):\n",
    "    plt.subplot(c)\n",
    "    plt.hist(df[df['year']==y]['length'], bins=50, log=True)\n",
    "    plt.title(str(y),fontsize=15)\n",
    "    plt.grid(True)\n"
   ]
  },
  {
   "cell_type": "markdown",
   "metadata": {},
   "source": [
    "#### label wise distribution of \"Length\" feature -- number of datapoints v/s length"
   ]
  },
  {
   "cell_type": "code",
   "execution_count": null,
   "metadata": {},
   "outputs": [],
   "source": []
  },
  {
   "cell_type": "code",
   "execution_count": null,
   "metadata": {},
   "outputs": [],
   "source": [
    "plt.figure(figsize=(20,15))\n",
    "\n",
    "cord = [331, 332, 333, 334, 335,  336, 337, 338]\n",
    "year = [2011, 2012, 2013, 2014, 2015, 2016,  2017, 2018]\n",
    "\n",
    "for c,y in zip(cord, year):\n",
    "    plt.subplot(c)\n",
    "    plt.hist(df[df['label']==y]['length'], bins=50, log=True)\n",
    "    plt.title(str(y),fontsize=15)\n",
    "    plt.grid(True)\n"
   ]
  },
  {
   "cell_type": "code",
   "execution_count": 34,
   "metadata": {
    "scrolled": true
   },
   "outputs": [
    {
     "data": {
      "text/plain": [
       "<AxesSubplot:>"
      ]
     },
     "execution_count": 34,
     "metadata": {},
     "output_type": "execute_result"
    },
    {
     "data": {
      "image/png": "[encoded data removed]",
      "text/plain": [
       "<Figure size 432x288 with 1 Axes>"
      ]
     },
     "metadata": {},
     "output_type": "display_data"
    }
   ],
   "source": [
    "pd.DataFrame(df['length']).boxplot()"
   ]
  },
  {
   "cell_type": "code",
   "execution_count": 57,
   "metadata": {
    "scrolled": false
   },
   "outputs": [
    {
     "data": {
      "text/plain": [
       "(array([1.0462e+06, 1.3720e+03, 3.7600e+02, 1.2900e+02, 1.2700e+02,\n",
       "        7.4000e+01, 4.1000e+01, 4.8000e+01, 2.7000e+01, 5.4000e+01,\n",
       "        2.0000e+01, 1.7000e+01, 5.0000e+00, 8.0000e+00, 7.0000e+00,\n",
       "        5.0000e+00, 5.0000e+00, 4.0000e+00, 1.4000e+01, 1.0000e+00,\n",
       "        1.0000e+00, 1.0000e+00, 0.0000e+00, 1.0000e+00, 2.0000e+00,\n",
       "        1.0000e+00, 1.0000e+00, 0.0000e+00, 1.0000e+00, 1.0000e+00,\n",
       "        3.0000e+00, 0.0000e+00, 0.0000e+00, 0.0000e+00, 0.0000e+00,\n",
       "        1.0000e+00, 0.0000e+00, 0.0000e+00, 0.0000e+00, 0.0000e+00,\n",
       "        1.0000e+00, 0.0000e+00, 0.0000e+00, 0.0000e+00, 0.0000e+00,\n",
       "        0.0000e+00, 1.0000e+00, 0.0000e+00, 0.0000e+00, 0.0000e+00,\n",
       "        1.0000e+00, 0.0000e+00, 0.0000e+00, 0.0000e+00, 0.0000e+00,\n",
       "        0.0000e+00, 0.0000e+00, 0.0000e+00, 0.0000e+00, 0.0000e+00,\n",
       "        0.0000e+00, 0.0000e+00, 0.0000e+00, 0.0000e+00, 0.0000e+00,\n",
       "        0.0000e+00, 0.0000e+00, 0.0000e+00, 0.0000e+00, 0.0000e+00,\n",
       "        0.0000e+00, 0.0000e+00, 0.0000e+00, 0.0000e+00, 0.0000e+00,\n",
       "        0.0000e+00, 0.0000e+00, 0.0000e+00, 0.0000e+00, 0.0000e+00,\n",
       "        1.0000e+00, 0.0000e+00, 0.0000e+00, 0.0000e+00, 0.0000e+00,\n",
       "        0.0000e+00, 3.0000e+00, 1.0000e+00, 1.0000e+00, 4.0000e+00,\n",
       "        1.0000e+00, 2.0000e+00, 1.0000e+00, 1.0000e+00, 0.0000e+00,\n",
       "        0.0000e+00, 0.0000e+00, 1.0000e+00, 0.0000e+00, 9.0000e+00]),\n",
       " array([3.00000000e+07, 4.99673700e+11, 9.99317400e+11, 1.49896110e+12,\n",
       "        1.99860480e+12, 2.49824850e+12, 2.99789220e+12, 3.49753590e+12,\n",
       "        3.99717960e+12, 4.49682330e+12, 4.99646700e+12, 5.49611070e+12,\n",
       "        5.99575440e+12, 6.49539810e+12, 6.99504180e+12, 7.49468550e+12,\n",
       "        7.99432920e+12, 8.49397290e+12, 8.99361660e+12, 9.49326030e+12,\n",
       "        9.99290400e+12, 1.04925477e+13, 1.09921914e+13, 1.14918351e+13,\n",
       "        1.19914788e+13, 1.24911225e+13, 1.29907662e+13, 1.34904099e+13,\n",
       "        1.39900536e+13, 1.44896973e+13, 1.49893410e+13, 1.54889847e+13,\n",
       "        1.59886284e+13, 1.64882721e+13, 1.69879158e+13, 1.74875595e+13,\n",
       "        1.79872032e+13, 1.84868469e+13, 1.89864906e+13, 1.94861343e+13,\n",
       "        1.99857780e+13, 2.04854217e+13, 2.09850654e+13, 2.14847091e+13,\n",
       "        2.19843528e+13, 2.24839965e+13, 2.29836402e+13, 2.34832839e+13,\n",
       "        2.39829276e+13, 2.44825713e+13, 2.49822150e+13, 2.54818587e+13,\n",
       "        2.59815024e+13, 2.64811461e+13, 2.69807898e+13, 2.74804335e+13,\n",
       "        2.79800772e+13, 2.84797209e+13, 2.89793646e+13, 2.94790083e+13,\n",
       "        2.99786520e+13, 3.04782957e+13, 3.09779394e+13, 3.14775831e+13,\n",
       "        3.19772268e+13, 3.24768705e+13, 3.29765142e+13, 3.34761579e+13,\n",
       "        3.39758016e+13, 3.44754453e+13, 3.49750890e+13, 3.54747327e+13,\n",
       "        3.59743764e+13, 3.64740201e+13, 3.69736638e+13, 3.74733075e+13,\n",
       "        3.79729512e+13, 3.84725949e+13, 3.89722386e+13, 3.94718823e+13,\n",
       "        3.99715260e+13, 4.04711697e+13, 4.09708134e+13, 4.14704571e+13,\n",
       "        4.19701008e+13, 4.24697445e+13, 4.29693882e+13, 4.34690319e+13,\n",
       "        4.39686756e+13, 4.44683193e+13, 4.49679630e+13, 4.54676067e+13,\n",
       "        4.59672504e+13, 4.64668941e+13, 4.69665378e+13, 4.74661815e+13,\n",
       "        4.79658252e+13, 4.84654689e+13, 4.89651126e+13, 4.94647563e+13,\n",
       "        4.99644000e+13]),\n",
       " <BarContainer object of 100 artists>)"
      ]
     },
     "execution_count": 57,
     "metadata": {},
     "output_type": "execute_result"
    },
    {
     "data": {
      "image/png": "[encoded data removed]",
      "text/plain": [
       "<Figure size 432x288 with 1 Axes>"
      ]
     },
     "metadata": {},
     "output_type": "display_data"
    }
   ],
   "source": [
    "plt.hist(df['income'], bins=100, log=True)"
   ]
  },
  {
   "cell_type": "code",
   "execution_count": 41,
   "metadata": {},
   "outputs": [
    {
     "data": {
      "text/plain": [
       "<AxesSubplot:>"
      ]
     },
     "execution_count": 41,
     "metadata": {},
     "output_type": "execute_result"
    },
    {
     "data": {
      "image/png": "[encoded data removed]",
      "text/plain": [
       "<Figure size 432x288 with 1 Axes>"
      ]
     },
     "metadata": {},
     "output_type": "display_data"
    }
   ],
   "source": [
    "neglog_income = -np.log(df['weight'])\n",
    "pd.DataFrame(neglog_income).boxplot()"
   ]
  }
 ],
 "metadata": {
  "kernelspec": {
   "display_name": "Python 3 (ipykernel)",
   "language": "python",
   "name": "python3"
  },
  "language_info": {
   "codemirror_mode": {
    "name": "ipython",
    "version": 3
   },
   "file_extension": ".py",
   "mimetype": "text/x-python",
   "name": "python",
   "nbconvert_exporter": "python",
   "pygments_lexer": "ipython3",
   "version": "3.7.3"
  }
 },
 "nbformat": 4,
 "nbformat_minor": 2
}
